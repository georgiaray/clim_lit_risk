{
 "cells": [
  {
   "cell_type": "markdown",
   "id": "31ba261c",
   "metadata": {},
   "source": [
    "## Testing"
   ]
  },
  {
   "cell_type": "markdown",
   "id": "67cd2aa8",
   "metadata": {},
   "source": [
    "This notebook is designed to select the LLMs we will use for cross validation. I will consider the ten cheapest models on OpenRouter and assess their performance on the manually labelled data using the designed RAG pipeline."
   ]
  },
  {
   "cell_type": "markdown",
   "id": "e83026f5",
   "metadata": {},
   "source": []
  }
 ],
 "metadata": {
  "language_info": {
   "name": "python"
  }
 },
 "nbformat": 4,
 "nbformat_minor": 5
}
