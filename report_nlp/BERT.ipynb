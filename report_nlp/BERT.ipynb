{
 "cells": [
  {
   "cell_type": "markdown",
   "id": "09b7b49e",
   "metadata": {},
   "source": [
    "## BERT based approach"
   ]
  },
  {
   "cell_type": "code",
   "execution_count": 17,
   "id": "008cd1aa",
   "metadata": {},
   "outputs": [],
   "source": [
    "import pandas as pd\n",
    "import numpy as np\n",
    "import re\n",
    "from tqdm import tqdm\n",
    "from transformers import AutoModelForSequenceClassification, AutoTokenizer, pipeline\n",
    "from sentence_transformers import SentenceTransformer, util\n",
    "import os"
   ]
  },
  {
   "cell_type": "markdown",
   "id": "04cc6deb",
   "metadata": {},
   "source": [
    "### Load and prepare data"
   ]
  },
  {
   "cell_type": "code",
   "execution_count": 18,
   "id": "4f830fd7",
   "metadata": {},
   "outputs": [
    {
     "name": "stdout",
     "output_type": "stream",
     "text": [
      "Loaded 528 documents.\n"
     ]
    }
   ],
   "source": [
    "data = pd.read_csv(\"full_data_filtered.csv\")\n",
    "data.rename(columns={'text': 'text', 'folder': 'company'}, inplace=True)\n",
    "data.drop(columns=['folderfiletext'], inplace=True, errors='ignore')\n",
    "print(f\"Loaded {len(data)} documents.\")"
   ]
  },
  {
   "cell_type": "code",
   "execution_count": 19,
   "id": "1a60cd10",
   "metadata": {},
   "outputs": [
    {
     "name": "stderr",
     "output_type": "stream",
     "text": [
      "Device set to use mps:0\n"
     ]
    }
   ],
   "source": [
    "climate_model_name = \"climatebert/distilroberta-base-climate-detector\"\n",
    "climate_model = AutoModelForSequenceClassification.from_pretrained(climate_model_name)\n",
    "climate_tokenizer = AutoTokenizer.from_pretrained(climate_model_name, max_len=512)\n",
    "climate_pipe = pipeline(\"text-classification\", model=climate_model, tokenizer=climate_tokenizer, device=0)"
   ]
  },
  {
   "cell_type": "code",
   "execution_count": 20,
   "id": "75aee6ec",
   "metadata": {},
   "outputs": [
    {
     "name": "stderr",
     "output_type": "stream",
     "text": [
      "No sentence-transformers model found with name nlpaueb/legal-bert-base-uncased. Creating a new one with mean pooling.\n"
     ]
    }
   ],
   "source": [
    "legal_model = SentenceTransformer(\"nlpaueb/legal-bert-base-uncased\")"
   ]
  },
  {
   "cell_type": "code",
   "execution_count": 21,
   "id": "f382266f",
   "metadata": {},
   "outputs": [],
   "source": [
    "seed_phrases = [\n",
    "    # Climate litigation-specific\n",
    "    \"We have been named in lawsuits related to climate change.\",\n",
    "    \"Legal proceedings seek damages for climate-related impacts.\",\n",
    "    \"Municipalities have filed suits against the company over emissions.\",\n",
    "    \"We face public nuisance and product liability claims.\",\n",
    "    \"These lawsuits include claims under state consumer protection statutes.\",\n",
    "    \"Ongoing litigation alleges misleading ESG disclosures.\",\n",
    "    \"Litigation risks could materially impact our financial condition.\",\n",
    "    \"We have received investigative requests from government entities.\",\n",
    "    \"Subject to congressional inquiry on climate policies.\",\n",
    "    \"The SEC is reviewing ESG-related statements for greenwashing.\",\n",
    "    \"Facing regulatory action over environmental claims.\",\n",
    "    \"Increased legal and regulatory scrutiny related to climate risks.\",\n",
    "    \"Lawsuits allege our ESG disclosures are false or misleading.\",\n",
    "    \"Greenwashing claims brought under consumer protection laws.\",\n",
    "    \"Allegations of deceptive climate-related marketing.\",\n",
    "    \"Legal challenges to our pipeline and infrastructure permits.\",\n",
    "    \"Efforts to shut down operations through litigation.\",\n",
    "    \"Court action on easement compliance threatens project continuity.\",\n",
    "    \"These are unprecedented legal theories with uncertain outcomes.\",\n",
    "    \"We cannot predict the impact of climate litigation.\",\n",
    "    \"Significant uncertainty surrounds the scope of legal claims.\",\n",
    "    \n",
    "    # General litigation-related\n",
    "    \"The company is subject to ongoing litigation.\",\n",
    "    \"Legal risks may impact our financial performance.\",\n",
    "    \"We are defending against multiple lawsuits.\",\n",
    "    \"Pending legal actions could result in significant costs.\",\n",
    "    \"The outcome of litigation is inherently uncertain.\",\n",
    "    \"Litigation could adversely affect our business operations.\",\n",
    "    \"We are involved in regulatory enforcement proceedings.\",\n",
    "    \"Certain lawsuits have been dismissed or remain pending.\",\n",
    "    \"We may incur legal liabilities or penalties.\",\n",
    "    \"Litigation expenses are expected to increase in the future.\"\n",
    "]\n"
   ]
  },
  {
   "cell_type": "markdown",
   "id": "51e68b89",
   "metadata": {},
   "source": [
    "## Tokenizing and chunking"
   ]
  },
  {
   "cell_type": "code",
   "execution_count": 22,
   "id": "374a7026",
   "metadata": {},
   "outputs": [],
   "source": [
    "tokenizer = AutoTokenizer.from_pretrained(\"nlpaueb/legal-bert-base-uncased\")"
   ]
  },
  {
   "cell_type": "code",
   "execution_count": 23,
   "id": "1cab8307",
   "metadata": {},
   "outputs": [],
   "source": [
    "def tokenize_and_chunk(row, tokenizer, max_tokens=512, text_col='text'):\n",
    "    sentences = re.split(r'(?<=[.!?]) +', row[text_col])\n",
    "    chunks = []\n",
    "    current_chunk = []\n",
    "    current_tokens = 0\n",
    "\n",
    "    for sentence in sentences:\n",
    "        token_count = len(tokenizer.tokenize(sentence))\n",
    "\n",
    "        if current_tokens + token_count <= max_tokens:\n",
    "            current_chunk.append(sentence)\n",
    "            current_tokens += token_count\n",
    "        else:\n",
    "            if current_chunk:\n",
    "                chunk_row = row.to_dict()\n",
    "                chunk_row[text_col] = ' '.join(current_chunk)\n",
    "                chunks.append(chunk_row)\n",
    "            current_chunk = [sentence]\n",
    "            current_tokens = token_count\n",
    "\n",
    "    if current_chunk:\n",
    "        chunk_row = row.to_dict()\n",
    "        chunk_row[text_col] = ' '.join(current_chunk)\n",
    "        chunks.append(chunk_row)\n",
    "\n",
    "    return chunks"
   ]
  },
  {
   "cell_type": "code",
   "execution_count": 24,
   "id": "8e709b91",
   "metadata": {},
   "outputs": [
    {
     "name": "stderr",
     "output_type": "stream",
     "text": [
      "Token indices sequence length is longer than the specified maximum sequence length for this model (685 > 512). Running this sequence through the model will result in indexing errors\n"
     ]
    }
   ],
   "source": [
    "expanded_rows = []\n",
    "for _, row in data.iterrows():\n",
    "    expanded_rows.extend(tokenize_and_chunk(row, tokenizer))"
   ]
  },
  {
   "cell_type": "code",
   "execution_count": 25,
   "id": "bacbf232",
   "metadata": {},
   "outputs": [],
   "source": [
    "df = pd.DataFrame(expanded_rows)"
   ]
  },
  {
   "cell_type": "markdown",
   "id": "ec828cc0",
   "metadata": {},
   "source": [
    "## Finding Relevant Chunks"
   ]
  },
  {
   "cell_type": "code",
   "execution_count": 26,
   "id": "bcaaf481",
   "metadata": {},
   "outputs": [
    {
     "name": "stdout",
     "output_type": "stream",
     "text": [
      "Classifying chunks with ClimateBERT...\n"
     ]
    },
    {
     "name": "stderr",
     "output_type": "stream",
     "text": [
      "100%|██████████| 4515/4515 [35:36<00:00,  2.11it/s]\n"
     ]
    }
   ],
   "source": [
    "print(\"Classifying chunks with ClimateBERT...\")\n",
    "climate_results = []\n",
    "\n",
    "# Process in batches to avoid memory issues\n",
    "batch_size = 32\n",
    "for i in tqdm(range(0, len(df), batch_size)):\n",
    "    batch_texts = df[\"text\"][i:i+batch_size].tolist()\n",
    "    batch_results = climate_pipe(batch_texts, padding=True, truncation=True)\n",
    "    climate_results.extend(batch_results)"
   ]
  },
  {
   "cell_type": "code",
   "execution_count": 30,
   "id": "01731a57",
   "metadata": {},
   "outputs": [],
   "source": [
    "#add the climate results to the dataframe\n",
    "df['climate_label'] = [result['label'] for result in climate_results]\n",
    "df['climate_score'] = [result['score'] for result in climate_results]"
   ]
  },
  {
   "cell_type": "code",
   "execution_count": 34,
   "id": "423f1dfa",
   "metadata": {},
   "outputs": [],
   "source": [
    "climate_df = df[df['climate_label'] == 'yes'].copy()"
   ]
  },
  {
   "cell_type": "code",
   "execution_count": 36,
   "id": "7b8acb6b",
   "metadata": {},
   "outputs": [
    {
     "name": "stdout",
     "output_type": "stream",
     "text": [
      "44086 chunks passed the climate relevance filter.\n",
      "Percentage of chunks that passed the climate relevance filter: 30.52%\n"
     ]
    }
   ],
   "source": [
    "print(f\"{len(climate_df)} chunks passed the climate relevance filter.\")\n",
    "\n",
    "# print the percentage of chunks that passed the climate relevance filter\n",
    "total_chunks = len(df)\n",
    "print(f\"Percentage of chunks that passed the climate relevance filter: {len(climate_df) / total_chunks * 100:.2f}%\")"
   ]
  },
  {
   "cell_type": "code",
   "execution_count": 37,
   "id": "d2b2e467",
   "metadata": {},
   "outputs": [
    {
     "name": "stdout",
     "output_type": "stream",
     "text": [
      "Encoding seed phrases with LegalBERT...\n",
      "Encoding climate-relevant chunks with LegalBERT...\n"
     ]
    }
   ],
   "source": [
    "print(\"Encoding seed phrases with LegalBERT...\")\n",
    "seed_embeddings = legal_model.encode(seed_phrases, convert_to_tensor=True, normalize_embeddings=True)\n",
    "\n",
    "print(\"Encoding climate-relevant chunks with LegalBERT...\")\n",
    "climate_embeddings_legal = legal_model.encode(climate_df[\"text\"].tolist(), batch_size=16, convert_to_tensor=True, normalize_embeddings=True)"
   ]
  },
  {
   "cell_type": "code",
   "execution_count": 38,
   "id": "ab6201af",
   "metadata": {},
   "outputs": [],
   "source": [
    "similarity_matrix = util.cos_sim(climate_embeddings_legal, seed_embeddings)\n",
    "max_similarities = similarity_matrix.max(dim=1).values\n",
    "climate_df[\"litigation_score\"] = max_similarities.cpu().numpy()"
   ]
  },
  {
   "cell_type": "code",
   "execution_count": 5,
   "id": "5b413bb8",
   "metadata": {},
   "outputs": [],
   "source": [
    "import os\n",
    "import pandas as pd\n",
    "#load in litigation df \n",
    "csv = 'BERT_results.csv'\n",
    "if os.path.exists(csv):\n",
    "    climate_df = pd.read_csv(csv)"
   ]
  },
  {
   "cell_type": "code",
   "execution_count": 7,
   "id": "31ff86c2",
   "metadata": {},
   "outputs": [
    {
     "name": "stdout",
     "output_type": "stream",
     "text": [
      "432 chunks flagged as climate litigation.\n"
     ]
    }
   ],
   "source": [
    "litigation_df = climate_df[climate_df[\"litigation_score\"] > 0.88].copy()  # Adjust threshold as needed\n",
    "print(f\"{len(litigation_df)} chunks flagged as climate litigation.\")"
   ]
  },
  {
   "cell_type": "code",
   "execution_count": 51,
   "id": "ae64a82d",
   "metadata": {},
   "outputs": [
    {
     "data": {
      "text/html": [
       "<div>\n",
       "<style scoped>\n",
       "    .dataframe tbody tr th:only-of-type {\n",
       "        vertical-align: middle;\n",
       "    }\n",
       "\n",
       "    .dataframe tbody tr th {\n",
       "        vertical-align: top;\n",
       "    }\n",
       "\n",
       "    .dataframe thead th {\n",
       "        text-align: right;\n",
       "    }\n",
       "</style>\n",
       "<table border=\"1\" class=\"dataframe\">\n",
       "  <thead>\n",
       "    <tr style=\"text-align: right;\">\n",
       "      <th></th>\n",
       "      <th>company</th>\n",
       "      <th>year</th>\n",
       "      <th>text</th>\n",
       "      <th>climate_label</th>\n",
       "      <th>climate_score</th>\n",
       "      <th>litigation_score</th>\n",
       "    </tr>\n",
       "  </thead>\n",
       "  <tbody>\n",
       "    <tr>\n",
       "      <th>18</th>\n",
       "      <td>AEP</td>\n",
       "      <td>2014</td>\n",
       "      <td>6 Repositioning Efforts\\nIn April 2012, we ini...</td>\n",
       "      <td>yes</td>\n",
       "      <td>0.997724</td>\n",
       "      <td>0.879293</td>\n",
       "    </tr>\n",
       "    <tr>\n",
       "      <th>19</th>\n",
       "      <td>AEP</td>\n",
       "      <td>2014</td>\n",
       "      <td>ENVIRONMENTAL ISSUES\\nWe are implementing a su...</td>\n",
       "      <td>yes</td>\n",
       "      <td>0.998389</td>\n",
       "      <td>0.886057</td>\n",
       "    </tr>\n",
       "    <tr>\n",
       "      <th>21</th>\n",
       "      <td>AEP</td>\n",
       "      <td>2014</td>\n",
       "      <td>8\\nIn addition, we are in the process of obtai...</td>\n",
       "      <td>yes</td>\n",
       "      <td>0.997970</td>\n",
       "      <td>0.879882</td>\n",
       "    </tr>\n",
       "    <tr>\n",
       "      <th>24</th>\n",
       "      <td>AEP</td>\n",
       "      <td>2014</td>\n",
       "      <td>Supreme Court.  Nearly all of the states in wh...</td>\n",
       "      <td>yes</td>\n",
       "      <td>0.996630</td>\n",
       "      <td>0.875335</td>\n",
       "    </tr>\n",
       "    <tr>\n",
       "      <th>27</th>\n",
       "      <td>AEP</td>\n",
       "      <td>2014</td>\n",
       "      <td>Supreme Court was granted in June 2013.  Separ...</td>\n",
       "      <td>yes</td>\n",
       "      <td>0.995758</td>\n",
       "      <td>0.875759</td>\n",
       "    </tr>\n",
       "    <tr>\n",
       "      <th>...</th>\n",
       "      <td>...</td>\n",
       "      <td>...</td>\n",
       "      <td>...</td>\n",
       "      <td>...</td>\n",
       "      <td>...</td>\n",
       "      <td>...</td>\n",
       "    </tr>\n",
       "    <tr>\n",
       "      <th>144230</th>\n",
       "      <td>XOM</td>\n",
       "      <td>2024</td>\n",
       "      <td>This is due to the exclusion from capitalized ...</td>\n",
       "      <td>yes</td>\n",
       "      <td>0.995250</td>\n",
       "      <td>0.875785</td>\n",
       "    </tr>\n",
       "    <tr>\n",
       "      <th>144240</th>\n",
       "      <td>XOM</td>\n",
       "      <td>2024</td>\n",
       "      <td>For additional information on natural gas liqu...</td>\n",
       "      <td>yes</td>\n",
       "      <td>0.990576</td>\n",
       "      <td>0.882572</td>\n",
       "    </tr>\n",
       "    <tr>\n",
       "      <th>144262</th>\n",
       "      <td>XOM</td>\n",
       "      <td>2025</td>\n",
       "      <td>The continued adoption of similar legal practi...</td>\n",
       "      <td>yes</td>\n",
       "      <td>0.998388</td>\n",
       "      <td>0.876660</td>\n",
       "    </tr>\n",
       "    <tr>\n",
       "      <th>144431</th>\n",
       "      <td>XOM</td>\n",
       "      <td>2025</td>\n",
       "      <td>This is due to the exclusion from capitalized ...</td>\n",
       "      <td>yes</td>\n",
       "      <td>0.995250</td>\n",
       "      <td>0.875785</td>\n",
       "    </tr>\n",
       "    <tr>\n",
       "      <th>144439</th>\n",
       "      <td>XOM</td>\n",
       "      <td>2025</td>\n",
       "      <td>For additional information on natural gas liqu...</td>\n",
       "      <td>yes</td>\n",
       "      <td>0.990577</td>\n",
       "      <td>0.877728</td>\n",
       "    </tr>\n",
       "  </tbody>\n",
       "</table>\n",
       "<p>1229 rows × 6 columns</p>\n",
       "</div>"
      ],
      "text/plain": [
       "       company  year                                               text  \\\n",
       "18         AEP  2014  6 Repositioning Efforts\\nIn April 2012, we ini...   \n",
       "19         AEP  2014  ENVIRONMENTAL ISSUES\\nWe are implementing a su...   \n",
       "21         AEP  2014  8\\nIn addition, we are in the process of obtai...   \n",
       "24         AEP  2014  Supreme Court.  Nearly all of the states in wh...   \n",
       "27         AEP  2014  Supreme Court was granted in June 2013.  Separ...   \n",
       "...        ...   ...                                                ...   \n",
       "144230     XOM  2024  This is due to the exclusion from capitalized ...   \n",
       "144240     XOM  2024  For additional information on natural gas liqu...   \n",
       "144262     XOM  2025  The continued adoption of similar legal practi...   \n",
       "144431     XOM  2025  This is due to the exclusion from capitalized ...   \n",
       "144439     XOM  2025  For additional information on natural gas liqu...   \n",
       "\n",
       "       climate_label  climate_score  litigation_score  \n",
       "18               yes       0.997724          0.879293  \n",
       "19               yes       0.998389          0.886057  \n",
       "21               yes       0.997970          0.879882  \n",
       "24               yes       0.996630          0.875335  \n",
       "27               yes       0.995758          0.875759  \n",
       "...              ...            ...               ...  \n",
       "144230           yes       0.995250          0.875785  \n",
       "144240           yes       0.990576          0.882572  \n",
       "144262           yes       0.998388          0.876660  \n",
       "144431           yes       0.995250          0.875785  \n",
       "144439           yes       0.990577          0.877728  \n",
       "\n",
       "[1229 rows x 6 columns]"
      ]
     },
     "execution_count": 51,
     "metadata": {},
     "output_type": "execute_result"
    }
   ],
   "source": [
    "litigation_df"
   ]
  },
  {
   "cell_type": "code",
   "execution_count": 52,
   "id": "8030ff86",
   "metadata": {},
   "outputs": [
    {
     "name": "stdout",
     "output_type": "stream",
     "text": [
      "\n",
      "Sample climate litigation chunks:\n",
      "Company: AEP\n",
      "Climate Score: 0.998\n",
      "Litigation Score: 0.879\n",
      "Text: 6 Repositioning Efforts\n",
      "In April 2012, we initiated a process to identify strategic repositioning opportunities and efficiencies that resulted in sustainable cost savings.  This process included evalu...\n",
      "--------------------------------------------------------------------------------\n",
      "Company: AEP\n",
      "Climate Score: 0.998\n",
      "Litigation Score: 0.886\n",
      "Text: ENVIRONMENTAL ISSUES\n",
      "We are implementing a substantial capital investment program and incurring additional operational costs to comply with environmental control requirements.  We will need to make ad...\n",
      "--------------------------------------------------------------------------------\n",
      "Company: AEP\n",
      "Climate Score: 0.998\n",
      "Litigation Score: 0.880\n",
      "Text: 8\n",
      "In addition, we are in the process of obtaining permits and other necessary regulatory approvals for either the conversion of some of our coal units to natural gas or installing emission control equ...\n",
      "--------------------------------------------------------------------------------\n"
     ]
    }
   ],
   "source": [
    "print(\"\\nSample climate litigation chunks:\")\n",
    "for idx, row in litigation_df.head(3).iterrows():\n",
    "    print(f\"Company: {row['company']}\")\n",
    "    print(f\"Climate Score: {row['climate_score']:.3f}\")\n",
    "    print(f\"Litigation Score: {row['litigation_score']:.3f}\")\n",
    "    print(f\"Text: {row['text'][:200]}...\")\n",
    "    print(\"-\" * 80)"
   ]
  },
  {
   "cell_type": "code",
   "execution_count": 53,
   "id": "a21a6d56",
   "metadata": {},
   "outputs": [],
   "source": [
    "# Save the final DataFrame to a CSV file\n",
    "output_file = \"BERT_results.csv\"\n",
    "litigation_df.to_csv(output_file, index=False)"
   ]
  }
 ],
 "metadata": {
  "kernelspec": {
   "display_name": "litigation",
   "language": "python",
   "name": "python3"
  },
  "language_info": {
   "codemirror_mode": {
    "name": "ipython",
    "version": 3
   },
   "file_extension": ".py",
   "mimetype": "text/x-python",
   "name": "python",
   "nbconvert_exporter": "python",
   "pygments_lexer": "ipython3",
   "version": "3.13.2"
  }
 },
 "nbformat": 4,
 "nbformat_minor": 5
}
